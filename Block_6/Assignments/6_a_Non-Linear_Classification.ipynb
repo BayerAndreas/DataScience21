{
 "cells": [
  {
   "cell_type": "markdown",
   "metadata": {},
   "source": [
    "# Block 6 Exercise 1: Non-Linear Classification"
   ]
  },
  {
   "cell_type": "markdown",
   "metadata": {},
   "source": [
    "## MNIST Data\n",
    "We return to the MNIST data set on handwritten digits to compare non-linear classification algorithms ...   "
   ]
  },
  {
   "cell_type": "code",
   "execution_count": 1,
   "metadata": {},
   "outputs": [],
   "source": [
    "#imports \n",
    "import matplotlib.pyplot as plt\n",
    "import numpy as np\n",
    "from sklearn.datasets import fetch_openml"
   ]
  },
  {
   "cell_type": "code",
   "execution_count": 2,
   "metadata": {},
   "outputs": [],
   "source": [
    "# Load data from https://www.openml.org/d/554\n",
    "X, y = fetch_openml('mnist_784', version=1, return_X_y=True)\n"
   ]
  },
  {
   "cell_type": "code",
   "execution_count": 3,
   "metadata": {},
   "outputs": [
    {
     "data": {
      "text/plain": [
       "(70000, 784)"
      ]
     },
     "execution_count": 3,
     "metadata": {},
     "output_type": "execute_result"
    }
   ],
   "source": [
    "#the full MNIST data set contains 70k samples of digits 0-9 as 28*28 gray scale images (represented as 784 dim vectors)\n",
    "np.shape(X)"
   ]
  },
  {
   "cell_type": "code",
   "execution_count": 4,
   "metadata": {},
   "outputs": [
    {
     "data": {
      "text/plain": [
       "0.0"
      ]
     },
     "execution_count": 4,
     "metadata": {},
     "output_type": "execute_result"
    }
   ],
   "source": [
    "X.min()"
   ]
  },
  {
   "cell_type": "code",
   "execution_count": 5,
   "metadata": {},
   "outputs": [
    {
     "data": {
      "text/plain": [
       "255.0"
      ]
     },
     "execution_count": 5,
     "metadata": {},
     "output_type": "execute_result"
    }
   ],
   "source": [
    "#look at max/min value in the data\n",
    "X.max()"
   ]
  },
  {
   "cell_type": "markdown",
   "metadata": {},
   "source": [
    "### E1.1: Cross-Validation and Support Vector Machines\n",
    "Train and optimize  C-SVM classifier on MNIST (https://scikit-learn.org/stable/modules/generated/sklearn.svm.SVC.html#sklearn.svm.SVC)\n",
    "* use a RBF kernel\n",
    "* use *random search* with cross-validation to find the best settings for *gamma* and *C* (https://scikit-learn.org/stable/modules/generated/sklearn.model_selection.RandomizedSearchCV.html#sklearn.model_selection.RandomizedSearchCV)"
   ]
  },
  {
   "cell_type": "code",
   "execution_count": 6,
   "metadata": {},
   "outputs": [],
   "source": [
    "from sklearn.model_selection import train_test_split\n",
    "\n",
    "X_norm = X / X.max()\n",
    "#y_norm = y / y.max()\n",
    "\n",
    "X_train, X_test, y_train, y_test = train_test_split(X_norm, y, test_size=10000, random_state=42)\n"
   ]
  },
  {
   "cell_type": "code",
   "execution_count": 7,
   "metadata": {},
   "outputs": [],
   "source": [
    "from sklearn.pipeline import make_pipeline\n",
    "from sklearn.preprocessing import StandardScaler\n",
    "\n",
    "from sklearn.svm import SVC\n",
    "\n",
    "from sklearn.model_selection import RandomizedSearchCV\n",
    "from scipy.stats import uniform"
   ]
  },
  {
   "cell_type": "code",
   "execution_count": 7,
   "metadata": {},
   "outputs": [
    {
     "name": "stderr",
     "output_type": "stream",
     "text": [
      "C:\\Users\\andre\\anaconda3\\lib\\site-packages\\sklearn\\svm\\_base.py:246: ConvergenceWarning: Solver terminated early (max_iter=100).  Consider pre-processing your data with StandardScaler or MinMaxScaler.\n",
      "  warnings.warn('Solver terminated early (max_iter=%i).'\n"
     ]
    },
    {
     "data": {
      "text/plain": [
       "{'gamma': 'scale', 'C': 0.9}"
      ]
     },
     "execution_count": 7,
     "metadata": {},
     "output_type": "execute_result"
    }
   ],
   "source": [
    "%%time\n",
    "\n",
    "#my_svc = make_pipeline(StandardScaler(), SVC(kernel='rbf'))\n",
    "my_svc = SVC(kernel='rbf', max_iter=100)\n",
    "\n",
    "distributions = dict(C=[0.5, 0.6, 0.7, 0.8, 0.9, 1.0, 1.1, 1.2],\n",
    "                     gamma=['auto', 'scale'])\n",
    "\n",
    "RSCV = RandomizedSearchCV(my_svc, distributions, random_state=0, n_jobs=-1)\n",
    "RSCV.fit(X_train, y_train)\n",
    "\n",
    "RSCV.best_params_"
   ]
  },
  {
   "cell_type": "code",
   "execution_count": 8,
   "metadata": {},
   "outputs": [
    {
     "name": "stdout",
     "output_type": "stream",
     "text": [
      "Wall time: 5min 3s\n"
     ]
    },
    {
     "data": {
      "text/plain": [
       "SVC(C=0.9)"
      ]
     },
     "execution_count": 8,
     "metadata": {},
     "output_type": "execute_result"
    }
   ],
   "source": [
    "%%time\n",
    "\n",
    "my_svc = SVC(kernel='rbf', C=0.9, gamma='scale');\n",
    "my_svc.fit(X_train, y_train)"
   ]
  },
  {
   "cell_type": "code",
   "execution_count": 9,
   "metadata": {},
   "outputs": [
    {
     "name": "stdout",
     "output_type": "stream",
     "text": [
      "Wall time: 1min 22s\n"
     ]
    }
   ],
   "source": [
    "%%time\n",
    "\n",
    "y_test_pred = my_svc.predict(X_test)"
   ]
  },
  {
   "cell_type": "code",
   "execution_count": 10,
   "metadata": {},
   "outputs": [
    {
     "name": "stdout",
     "output_type": "stream",
     "text": [
      "Wall time: 8min 17s\n"
     ]
    }
   ],
   "source": [
    "%%time\n",
    "\n",
    "y_train_pred = my_svc.predict(X_train)"
   ]
  },
  {
   "cell_type": "code",
   "execution_count": 11,
   "metadata": {},
   "outputs": [
    {
     "data": {
      "text/plain": [
       "array([[ 973,    0,    3,    0,    1,    0,    1,    1,    3,    1],\n",
       "       [   0, 1140,    4,    3,    0,    0,    0,    3,    1,    1],\n",
       "       [   2,    2,  948,    1,    2,    1,    3,    3,    5,    0],\n",
       "       [   0,    2,    8, 1001,    1,    7,    1,    6,    4,    4],\n",
       "       [   1,    0,    2,    0,  886,    0,    3,    2,    2,   10],\n",
       "       [   0,    0,    2,   12,    0,  912,    7,    1,    3,    0],\n",
       "       [   1,    0,    0,    0,    3,    3,  951,    0,    3,    0],\n",
       "       [   0,    4,    9,    0,    5,    0,    0, 1029,    0,    8],\n",
       "       [   1,    4,    8,   10,    2,    5,    5,    5,  925,    4],\n",
       "       [   5,    5,    1,    6,    9,    1,    0,    6,    4,  999]],\n",
       "      dtype=int64)"
      ]
     },
     "execution_count": 11,
     "metadata": {},
     "output_type": "execute_result"
    }
   ],
   "source": [
    "from sklearn.metrics import confusion_matrix\n",
    "\n",
    "confusion_matrix(y_test, y_test_pred)"
   ]
  },
  {
   "cell_type": "code",
   "execution_count": 12,
   "metadata": {},
   "outputs": [
    {
     "data": {
      "text/plain": [
       "array([[5894,    1,    2,    1,    2,    5,    5,    1,    5,    4],\n",
       "       [   1, 6686,   14,    3,    2,    1,    1,   10,    3,    4],\n",
       "       [   7,    4, 5967,    7,    9,    0,    1,   16,    9,    3],\n",
       "       [   1,    3,   18, 6008,    1,   23,    0,   19,   23,   11],\n",
       "       [   2,    9,    5,    0, 5852,    0,   12,    3,    1,   34],\n",
       "       [   7,    2,    5,   19,    6, 5314,   13,    1,    4,    5],\n",
       "       [   9,    5,    1,    0,    5,    7, 5884,    0,    4,    0],\n",
       "       [   2,   21,   19,    1,   15,    0,    0, 6151,    3,   26],\n",
       "       [   3,   17,    9,   11,    6,   13,    4,    3, 5787,    3],\n",
       "       [   7,    6,    2,   18,   41,    6,    1,   28,    8, 5805]],\n",
       "      dtype=int64)"
      ]
     },
     "execution_count": 12,
     "metadata": {},
     "output_type": "execute_result"
    }
   ],
   "source": [
    "confusion_matrix(y_train, y_train_pred)"
   ]
  },
  {
   "cell_type": "markdown",
   "metadata": {},
   "source": [
    "### E1.2: Pipelines and simple Neural Networksconfusion_matrixMNIST data into  train- and test-sets and then train and evaluate a simple Multi Layer Perceptron (MLP) network. Since the non-linear activation functions of MLPs are sensitive to the scaling on the input (recall the *sigmoid* function), we need to scale all input values to [0,1] \n",
    "\n",
    "* combine all steps of your training in a SKL pipeline (https://scikit-learn.org/stable/modules/compose.html#pipeline)\n",
    "* use a SKL-scaler to scale the data (https://scikit-learn.org/stable/modules/generated/sklearn.preprocessing.StandardScaler.html)\n",
    "* MLP Parameters: https://scikit-learn.org/stable/modules/generated/sklearn.neural_network.MLPClassifier.html#sklearn.neural_network.MLPClassifier\n",
    "    * use a *SGD* solver\n",
    "    * use *tanh* as activation function\n",
    "    * compare networks with 1, 2 and 3 layers, use different numbers of neurons per layer\n",
    "    * adjust training parameters *alpha* (regularization) and *learning rate* - how sensitive is the model to these parameters?\n",
    "    * Hint: do not change all parameters at the same time, split into several experiments\n",
    "* How hard is it to find the best parameters? How many experiments would you need to find the best parameters?\n",
    "    \n"
   ]
  },
  {
   "cell_type": "code",
   "execution_count": 26,
   "metadata": {},
   "outputs": [],
   "source": [
    "from sklearn.pipeline import make_pipeline\n",
    "from sklearn.preprocessing import StandardScaler\n",
    "from sklearn.model_selection import train_test_split\n",
    "\n",
    "from sklearn.model_selection import RandomizedSearchCV\n",
    "\n",
    "X_train, X_test, y_train, y_test = train_test_split(X, y, test_size=10000, random_state=42)\n",
    "\n",
    "\n",
    "from sklearn.neural_network import MLPClassifier\n",
    "from sklearn.datasets import make_classification\n",
    "from scipy.stats import uniform"
   ]
  },
  {
   "cell_type": "code",
   "execution_count": 31,
   "metadata": {},
   "outputs": [
    {
     "name": "stdout",
     "output_type": "stream",
     "text": [
      "Wall time: 0 ns\n"
     ]
    }
   ],
   "source": [
    "%%time\n",
    "\n",
    "myMLP = make_pipeline(StandardScaler(), MLPClassifier(random_state=42, max_iter=1000, solver='sgd', activation='tanh'))\n",
    "\n",
    "distributions = dict(mlpclassifier__alpha = uniform(0.0001, 0.9),\n",
    "                    mlpclassifier__learning_rate=['constant', 'invscaling', 'adaptive'])\n",
    "\n",
    "RSCV = RandomizedSearchCV(myMLP, distributions, random_state=0, n_jobs=-1)"
   ]
  },
  {
   "cell_type": "code",
   "execution_count": 32,
   "metadata": {},
   "outputs": [
    {
     "name": "stdout",
     "output_type": "stream",
     "text": [
      "Wall time: 17min 46s\n"
     ]
    },
    {
     "data": {
      "text/plain": [
       "{'mlpclassifier__alpha': 0.34604353656342984,\n",
       " 'mlpclassifier__hidden_layer_sizes': 3,\n",
       " 'mlpclassifier__learning_rate': 'constant'}"
      ]
     },
     "execution_count": 32,
     "metadata": {},
     "output_type": "execute_result"
    }
   ],
   "source": [
    "%%time\n",
    "\n",
    "\n",
    "RSCV.fit(X_train, y_train)\n",
    "RSCV.best_params_"
   ]
  },
  {
   "cell_type": "code",
   "execution_count": 39,
   "metadata": {},
   "outputs": [
    {
     "name": "stdout",
     "output_type": "stream",
     "text": [
      "Wall time: 5min 30s\n"
     ]
    },
    {
     "data": {
      "text/plain": [
       "Pipeline(steps=[('standardscaler', StandardScaler()),\n",
       "                ('mlpclassifier',\n",
       "                 MLPClassifier(activation='tanh', alpha=0.3451973669431999,\n",
       "                               learning_rate='adaptive', max_iter=10000,\n",
       "                               random_state=42, solver='sgd'))])"
      ]
     },
     "execution_count": 39,
     "metadata": {},
     "output_type": "execute_result"
    }
   ],
   "source": [
    "%%time\n",
    "\n",
    "alpha = 0.3451973669431999\n",
    "learning_rate = 'adaptive'\n",
    "\n",
    "myMLP = make_pipeline(StandardScaler(), MLPClassifier(random_state=42, max_iter=10000, alpha=0.3451973669431999, learning_rate='adaptive', solver='sgd', activation='tanh'))\n",
    "\n",
    "myMLP.fit(X_train, y_train)"
   ]
  },
  {
   "cell_type": "code",
   "execution_count": 40,
   "metadata": {},
   "outputs": [
    {
     "name": "stdout",
     "output_type": "stream",
     "text": [
      "Wall time: 112 ms\n"
     ]
    }
   ],
   "source": [
    "%%time\n",
    "\n",
    "y_test_pred = myMLP.predict(X_test)"
   ]
  },
  {
   "cell_type": "code",
   "execution_count": 41,
   "metadata": {},
   "outputs": [
    {
     "name": "stdout",
     "output_type": "stream",
     "text": [
      "Wall time: 535 ms\n"
     ]
    }
   ],
   "source": [
    "%%time\n",
    "\n",
    "y_train_pred = myMLP.predict(X_train)"
   ]
  },
  {
   "cell_type": "code",
   "execution_count": 42,
   "metadata": {},
   "outputs": [
    {
     "data": {
      "text/plain": [
       "array([[ 963,    0,    4,    0,    1,    2,    6,    2,    4,    1],\n",
       "       [   0, 1136,    3,    3,    1,    1,    0,    3,    4,    1],\n",
       "       [   1,    6,  922,    2,    4,    4,    9,    8,   11,    0],\n",
       "       [   1,    4,   12,  983,    1,    8,    3,   12,    5,    5],\n",
       "       [   0,    1,    1,    0,  881,    2,    4,    4,    1,   12],\n",
       "       [   1,    1,    1,   17,    3,  899,    8,    0,    5,    2],\n",
       "       [   4,    1,    1,    0,    3,    5,  944,    0,    2,    1],\n",
       "       [   2,    4,    9,    0,    7,    1,    0, 1025,    0,    7],\n",
       "       [   3,    5,    5,   14,    4,    2,    6,    6,  918,    6],\n",
       "       [   4,    5,    1,    6,   11,    2,    0,   11,    6,  990]],\n",
       "      dtype=int64)"
      ]
     },
     "execution_count": 42,
     "metadata": {},
     "output_type": "execute_result"
    }
   ],
   "source": [
    "from sklearn.metrics import confusion_matrix\n",
    "\n",
    "confusion_matrix(y_test, y_test_pred)"
   ]
  },
  {
   "cell_type": "code",
   "execution_count": 43,
   "metadata": {},
   "outputs": [
    {
     "data": {
      "text/plain": [
       "array([[5874,    1,    2,    3,    5,    7,   12,    2,   13,    1],\n",
       "       [   1, 6676,   14,    4,    8,    4,    2,    7,    7,    2],\n",
       "       [  14,    9, 5932,    7,   16,    0,    4,   20,   19,    2],\n",
       "       [   3,    5,   17, 5990,    4,   26,    1,   17,   29,   15],\n",
       "       [   1,   11,    6,    1, 5846,    0,   12,    3,    4,   34],\n",
       "       [   9,    2,    4,   23,    5, 5303,   14,    0,    9,    7],\n",
       "       [  15,    9,    1,    1,    8,   11, 5862,    0,    8,    0],\n",
       "       [   4,   19,   15,    1,   20,    2,    1, 6154,    4,   18],\n",
       "       [   8,   27,    4,   15,    6,   10,    4,    6, 5766,   10],\n",
       "       [   6,   11,    1,   17,   32,    7,    2,   21,   12, 5813]],\n",
       "      dtype=int64)"
      ]
     },
     "execution_count": 43,
     "metadata": {},
     "output_type": "execute_result"
    }
   ],
   "source": [
    "confusion_matrix(y_train, y_train_pred)"
   ]
  },
  {
   "cell_type": "code",
   "execution_count": 44,
   "metadata": {},
   "outputs": [
    {
     "data": {
      "text/plain": [
       "array([0.98165138, 0.98142549, 0.95742471, 0.95483244, 0.96706915,\n",
       "       0.96511004, 0.97269449, 0.96425212, 0.95376623, 0.96069869])"
      ]
     },
     "execution_count": 44,
     "metadata": {},
     "output_type": "execute_result"
    }
   ],
   "source": [
    "from sklearn.metrics import f1_score\n",
    "\n",
    "f1_score(y_test, y_test_pred, average=None)"
   ]
  },
  {
   "cell_type": "code",
   "execution_count": 45,
   "metadata": {},
   "outputs": [
    {
     "data": {
      "text/plain": [
       "array([0.99097427, 0.98940348, 0.98710375, 0.98446873, 0.98517021,\n",
       "       0.9869719 , 0.99112351, 0.98716715, 0.98337171, 0.9832544 ])"
      ]
     },
     "execution_count": 45,
     "metadata": {},
     "output_type": "execute_result"
    }
   ],
   "source": [
    "f1_score(y_train, y_train_pred, average=None)"
   ]
  }
 ],
 "metadata": {
  "kernelspec": {
   "display_name": "Python 3",
   "language": "python",
   "name": "python3"
  },
  "language_info": {
   "codemirror_mode": {
    "name": "ipython",
    "version": 3
   },
   "file_extension": ".py",
   "mimetype": "text/x-python",
   "name": "python",
   "nbconvert_exporter": "python",
   "pygments_lexer": "ipython3",
   "version": "3.8.5"
  }
 },
 "nbformat": 4,
 "nbformat_minor": 4
}
